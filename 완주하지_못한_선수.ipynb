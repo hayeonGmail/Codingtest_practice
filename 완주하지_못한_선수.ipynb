{
  "nbformat": 4,
  "nbformat_minor": 0,
  "metadata": {
    "colab": {
      "name": "완주하지 못한 선수.ipynb",
      "provenance": [],
      "collapsed_sections": [],
      "authorship_tag": "ABX9TyOT8f9EzF7z7Yl3XeI0aqV5",
      "include_colab_link": true
    },
    "kernelspec": {
      "name": "python3",
      "display_name": "Python 3"
    },
    "language_info": {
      "name": "python"
    }
  },
  "cells": [
    {
      "cell_type": "markdown",
      "metadata": {
        "id": "view-in-github",
        "colab_type": "text"
      },
      "source": [
        "<a href=\"https://colab.research.google.com/github/hayeonGmail/Codingtest_practice/blob/main/%EC%99%84%EC%A3%BC%ED%95%98%EC%A7%80_%EB%AA%BB%ED%95%9C_%EC%84%A0%EC%88%98.ipynb\" target=\"_parent\"><img src=\"https://colab.research.google.com/assets/colab-badge.svg\" alt=\"Open In Colab\"/></a>"
      ]
    },
    {
      "cell_type": "code",
      "metadata": {
        "id": "4wVpiA54QwrL"
      },
      "source": [
        "def solution(participant, completion):\n",
        "  answer = {}\n",
        "  # 예를 들어 participant = ['a', 'b', 'b'] 일 경우\n",
        "  # answer = {'a': 1, 'b': 2} 와 같은 형태.\n",
        "  for i in participant:\n",
        "    answer[i] = answer.get(i, 0) + 1\n",
        "\n",
        "  # completion에 포한되는 이름의 key의 value를 -1.\n",
        "  for j in completion:\n",
        "    answer[j] -= 1\n",
        "\n",
        "  # participant에는 있지만 completion에는 없는 이름만 value가 1로 남게되니 그것을 리턴.\n",
        "  for a in answer:\n",
        "    if answer[a]:\n",
        "      return a"
      ],
      "execution_count": 1,
      "outputs": []
    },
    {
      "cell_type": "code",
      "metadata": {
        "id": "Ea5-bJsNQ2Ko"
      },
      "source": [
        "participant1 = [\"leo\", \"kiki\", \"eden\"]\n",
        "completion1 = [\"eden\", \"kiki\"]\n",
        "\n",
        "participant2 = [\"marina\", \"josipa\", \"nikola\", \"vinko\", \"filipa\"]\n",
        "completion2 = [\"josipa\", \"filipa\", \"marina\", \"nikola\"]\n",
        "\n",
        "participant3 = [\"mislav\", \"stanko\", \"mislav\", \"ana\"]\n",
        "completion3 = [\"stanko\", \"ana\", \"mislav\"]"
      ],
      "execution_count": 2,
      "outputs": []
    },
    {
      "cell_type": "code",
      "metadata": {
        "colab": {
          "base_uri": "https://localhost:8080/"
        },
        "id": "Ct3j0XltaalK",
        "outputId": "2e473846-092c-4bd6-80d7-be37c5ee60bc"
      },
      "source": [
        "print(solution(participant1, completion1))\n",
        "print(solution(participant2, completion2))\n",
        "print(solution(participant3, completion3))"
      ],
      "execution_count": 3,
      "outputs": [
        {
          "output_type": "stream",
          "name": "stdout",
          "text": [
            "leo\n",
            "vinko\n",
            "mislav\n"
          ]
        }
      ]
    },
    {
      "cell_type": "code",
      "metadata": {
        "id": "FAyfmluAndFN"
      },
      "source": [
        "#간결한 코드\n",
        "import collections\n",
        "\n",
        "def solution_good(participant, completion):\n",
        "    answer = collections.Counter(participant) - collections.Counter(completion)\n",
        "    return list(answer.keys())[0]"
      ],
      "execution_count": 4,
      "outputs": []
    },
    {
      "cell_type": "code",
      "metadata": {
        "colab": {
          "base_uri": "https://localhost:8080/"
        },
        "id": "7D2flFlknrkV",
        "outputId": "e18e0377-9dae-474b-85f4-05372b9a7d53"
      },
      "source": [
        "print(solution_good(participant1, completion1))\n",
        "print(solution_good(participant2, completion2))\n",
        "print(solution_good(participant3, completion3))"
      ],
      "execution_count": 5,
      "outputs": [
        {
          "output_type": "stream",
          "name": "stdout",
          "text": [
            "leo\n",
            "vinko\n",
            "mislav\n"
          ]
        }
      ]
    }
  ]
}