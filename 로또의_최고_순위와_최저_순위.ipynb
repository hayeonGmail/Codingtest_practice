{
  "nbformat": 4,
  "nbformat_minor": 0,
  "metadata": {
    "colab": {
      "name": "로또의 최고 순위와 최저 순위.ipynb",
      "provenance": [],
      "collapsed_sections": [],
      "toc_visible": true,
      "authorship_tag": "ABX9TyNnnCXCClWdwR1KsE6w15lH",
      "include_colab_link": true
    },
    "kernelspec": {
      "name": "python3",
      "display_name": "Python 3"
    },
    "language_info": {
      "name": "python"
    }
  },
  "cells": [
    {
      "cell_type": "markdown",
      "metadata": {
        "id": "view-in-github",
        "colab_type": "text"
      },
      "source": [
        "<a href=\"https://colab.research.google.com/github/hayeonGmail/Codingtest_practice/blob/main/%EB%A1%9C%EB%98%90%EC%9D%98_%EC%B5%9C%EA%B3%A0_%EC%88%9C%EC%9C%84%EC%99%80_%EC%B5%9C%EC%A0%80_%EC%88%9C%EC%9C%84.ipynb\" target=\"_parent\"><img src=\"https://colab.research.google.com/assets/colab-badge.svg\" alt=\"Open In Colab\"/></a>"
      ]
    },
    {
      "cell_type": "code",
      "metadata": {
        "id": "5P4mDC76byd0"
      },
      "source": [
        "def solution(lottos, win_nums):\n",
        "  answer = []\n",
        "  zero = 0\n",
        "  have = 0\n",
        "\n",
        "  for i, value in enumerate(lottos):\n",
        "    if value in win_nums:\n",
        "      have += 1\n",
        "    if value == 0:\n",
        "      zero += 1\n",
        "  #최고 순위 구하기\n",
        "  if not zero and not have: # 둘의 값이 모두 0일때\n",
        "    answer.append(6)\n",
        "  else:\n",
        "    answer.append(7 - (have + zero))\n",
        "  #최저 순위 구하기\n",
        "  if have == 0:\n",
        "    answer.append(6)\n",
        "  else:\n",
        "    answer.append(7 - have)\n",
        "  \n",
        "  return answer"
      ],
      "execution_count": 1,
      "outputs": []
    },
    {
      "cell_type": "code",
      "metadata": {
        "id": "6Q6wUPyicWQ_"
      },
      "source": [
        "lotto1 = [44, 1, 0, 0, 31, 25]\n",
        "win_num1 = [31, 10, 45, 1, 6, 19]\n",
        "\n",
        "lotto2 = [0, 0, 0, 0, 0, 0]\n",
        "win_num2 = [38, 19, 20, 40, 15, 25]\n",
        "\n",
        "lotto3 = [45, 4, 35, 20, 3, 9]\n",
        "win_num3 = [20, 9, 3, 45, 4, 35]"
      ],
      "execution_count": 2,
      "outputs": []
    },
    {
      "cell_type": "code",
      "metadata": {
        "colab": {
          "base_uri": "https://localhost:8080/"
        },
        "id": "BE5JKgmDf8ie",
        "outputId": "e592569c-a471-4bec-827d-84bb6491f07a"
      },
      "source": [
        "solution(lotto1, win_num1)"
      ],
      "execution_count": 3,
      "outputs": [
        {
          "output_type": "execute_result",
          "data": {
            "text/plain": [
              "[3, 5]"
            ]
          },
          "metadata": {},
          "execution_count": 3
        }
      ]
    },
    {
      "cell_type": "code",
      "metadata": {
        "colab": {
          "base_uri": "https://localhost:8080/"
        },
        "id": "S0aclDzhgZcQ",
        "outputId": "a4ecfcb4-9cf4-4cd0-d3a7-4f24c751d74f"
      },
      "source": [
        "solution(lotto2, win_num2)"
      ],
      "execution_count": 4,
      "outputs": [
        {
          "output_type": "execute_result",
          "data": {
            "text/plain": [
              "[1, 6]"
            ]
          },
          "metadata": {},
          "execution_count": 4
        }
      ]
    },
    {
      "cell_type": "code",
      "metadata": {
        "colab": {
          "base_uri": "https://localhost:8080/"
        },
        "id": "DAIWGTF4gaFQ",
        "outputId": "7e1c77df-3fb5-472e-c7ea-090cdd8cbdbd"
      },
      "source": [
        "solution(lotto3, win_num3)"
      ],
      "execution_count": 5,
      "outputs": [
        {
          "output_type": "execute_result",
          "data": {
            "text/plain": [
              "[1, 1]"
            ]
          },
          "metadata": {},
          "execution_count": 5
        }
      ]
    }
  ]
}